{
 "cells": [
  {
   "cell_type": "code",
   "execution_count": 18,
   "id": "88c903fd",
   "metadata": {},
   "outputs": [],
   "source": [
    "import os\n",
    "import pandas as pd"
   ]
  },
  {
   "cell_type": "code",
   "execution_count": 19,
   "id": "c987352d",
   "metadata": {},
   "outputs": [],
   "source": [
    "input_loc = '/Users/user/Documents/GitHub/XLSXMerge/'"
   ]
  },
  {
   "cell_type": "code",
   "execution_count": 20,
   "id": "5946c8c0",
   "metadata": {},
   "outputs": [],
   "source": [
    "fileList = os.listdir(input_loc)"
   ]
  },
  {
   "cell_type": "code",
   "execution_count": 13,
   "id": "af300ec8",
   "metadata": {},
   "outputs": [],
   "source": [
    "finalDf = pd.DataFrame()\n",
    "\n",
    "for files in fileList:\n",
    "    if files.endswith('.xlsx'): # look for all xlsx files within the folder\n",
    "        df = pd.read_excel(input_loc+files) \n",
    "        finalDf = pd.concat([finalDf, df]) #summarize all data together\n",
    "        \n",
    "finalDf.to_excel('output.xlsx')       "
   ]
  },
  {
   "cell_type": "code",
   "execution_count": 14,
   "id": "37de30a4",
   "metadata": {},
   "outputs": [
    {
     "data": {
      "text/plain": [
       "(47801, 12)"
      ]
     },
     "execution_count": 14,
     "metadata": {},
     "output_type": "execute_result"
    }
   ],
   "source": [
    "finalDf.shape"
   ]
  },
  {
   "cell_type": "code",
   "execution_count": 15,
   "id": "0afd57e4",
   "metadata": {},
   "outputs": [
    {
     "data": {
      "text/html": [
       "<div>\n",
       "<style scoped>\n",
       "    .dataframe tbody tr th:only-of-type {\n",
       "        vertical-align: middle;\n",
       "    }\n",
       "\n",
       "    .dataframe tbody tr th {\n",
       "        vertical-align: top;\n",
       "    }\n",
       "\n",
       "    .dataframe thead th {\n",
       "        text-align: right;\n",
       "    }\n",
       "</style>\n",
       "<table border=\"1\" class=\"dataframe\">\n",
       "  <thead>\n",
       "    <tr style=\"text-align: right;\">\n",
       "      <th></th>\n",
       "      <th>Sektor</th>\n",
       "      <th>Oberkategorie</th>\n",
       "      <th>Kategorie</th>\n",
       "      <th>Firma</th>\n",
       "      <th>Strasse</th>\n",
       "      <th>PLZ</th>\n",
       "      <th>Ort</th>\n",
       "      <th>Telefon</th>\n",
       "      <th>Fax</th>\n",
       "      <th>EMail</th>\n",
       "      <th>URL</th>\n",
       "      <th>Bundesland</th>\n",
       "    </tr>\n",
       "  </thead>\n",
       "  <tbody>\n",
       "    <tr>\n",
       "      <th>0</th>\n",
       "      <td>Dienstleister</td>\n",
       "      <td>Kommunales</td>\n",
       "      <td>Abbruchunternehmen</td>\n",
       "      <td>Scholz Holding GmbH</td>\n",
       "      <td>Berndt-Ulrich-Scholz-Str. 1</td>\n",
       "      <td>73457</td>\n",
       "      <td>Essingen</td>\n",
       "      <td>07365-84-0</td>\n",
       "      <td>07365-1481</td>\n",
       "      <td>infoscholz@scholz-ag.de</td>\n",
       "      <td>http://www.scholz-ag.de/</td>\n",
       "      <td>Baden-Württemberg</td>\n",
       "    </tr>\n",
       "    <tr>\n",
       "      <th>1</th>\n",
       "      <td>Dienstleister</td>\n",
       "      <td>Kommunales</td>\n",
       "      <td>Abbruchunternehmen</td>\n",
       "      <td>Lobbe Holding GmbH &amp; Co KG</td>\n",
       "      <td>Bernhard-Hülsmann-Weg 2</td>\n",
       "      <td>58644</td>\n",
       "      <td>Iserlohn</td>\n",
       "      <td>02371-888-0</td>\n",
       "      <td>02371-888-108</td>\n",
       "      <td>info@lobbe-holding.de</td>\n",
       "      <td>http://www.lobbe.de/</td>\n",
       "      <td>Nordrhein-Westfalen</td>\n",
       "    </tr>\n",
       "    <tr>\n",
       "      <th>2</th>\n",
       "      <td>Dienstleister</td>\n",
       "      <td>Kommunales</td>\n",
       "      <td>Abbruchunternehmen</td>\n",
       "      <td>Energiewerke Nord GmbH</td>\n",
       "      <td>Latzower Str. 1</td>\n",
       "      <td>17507</td>\n",
       "      <td>Lubmin</td>\n",
       "      <td>038354-40</td>\n",
       "      <td>038354-22458</td>\n",
       "      <td>poststelle@ewn-gmbh.de</td>\n",
       "      <td>http://www.ewn-gmbh.de/</td>\n",
       "      <td>Mecklenburg-Vorpommern</td>\n",
       "    </tr>\n",
       "    <tr>\n",
       "      <th>3</th>\n",
       "      <td>Dienstleister</td>\n",
       "      <td>Kommunales</td>\n",
       "      <td>Abbruchunternehmen</td>\n",
       "      <td>Wilhelm Geiger GmbH &amp; Co. KG</td>\n",
       "      <td>Wilhelm-Geiger-Str. 1</td>\n",
       "      <td>87561</td>\n",
       "      <td>Oberstdorf</td>\n",
       "      <td>08322-18-0</td>\n",
       "      <td>08322-18-254</td>\n",
       "      <td>info@geigergruppe.de</td>\n",
       "      <td>http://www.geigergruppe.de/</td>\n",
       "      <td>Bayern</td>\n",
       "    </tr>\n",
       "    <tr>\n",
       "      <th>4</th>\n",
       "      <td>Dienstleister</td>\n",
       "      <td>Kommunales</td>\n",
       "      <td>Abbruchunternehmen</td>\n",
       "      <td>Deutsche Gesellschaft zum Bau u. Betrieb</td>\n",
       "      <td>Eschenstr. 55</td>\n",
       "      <td>31224</td>\n",
       "      <td>Peine</td>\n",
       "      <td>05171-43-0</td>\n",
       "      <td>05171-43-1218</td>\n",
       "      <td>info@dbe.de</td>\n",
       "      <td>http://www.dbe.de/</td>\n",
       "      <td>Niedersachsen</td>\n",
       "    </tr>\n",
       "  </tbody>\n",
       "</table>\n",
       "</div>"
      ],
      "text/plain": [
       "          Sektor Oberkategorie           Kategorie  \\\n",
       "0  Dienstleister    Kommunales  Abbruchunternehmen   \n",
       "1  Dienstleister    Kommunales  Abbruchunternehmen   \n",
       "2  Dienstleister    Kommunales  Abbruchunternehmen   \n",
       "3  Dienstleister    Kommunales  Abbruchunternehmen   \n",
       "4  Dienstleister    Kommunales  Abbruchunternehmen   \n",
       "\n",
       "                                      Firma                      Strasse  \\\n",
       "0                       Scholz Holding GmbH  Berndt-Ulrich-Scholz-Str. 1   \n",
       "1                Lobbe Holding GmbH & Co KG      Bernhard-Hülsmann-Weg 2   \n",
       "2                    Energiewerke Nord GmbH              Latzower Str. 1   \n",
       "3              Wilhelm Geiger GmbH & Co. KG        Wilhelm-Geiger-Str. 1   \n",
       "4  Deutsche Gesellschaft zum Bau u. Betrieb                Eschenstr. 55   \n",
       "\n",
       "     PLZ         Ort      Telefon            Fax                    EMail  \\\n",
       "0  73457    Essingen   07365-84-0     07365-1481  infoscholz@scholz-ag.de   \n",
       "1  58644    Iserlohn  02371-888-0  02371-888-108    info@lobbe-holding.de   \n",
       "2  17507      Lubmin    038354-40   038354-22458   poststelle@ewn-gmbh.de   \n",
       "3  87561  Oberstdorf   08322-18-0   08322-18-254     info@geigergruppe.de   \n",
       "4  31224       Peine   05171-43-0  05171-43-1218              info@dbe.de   \n",
       "\n",
       "                           URL              Bundesland  \n",
       "0     http://www.scholz-ag.de/       Baden-Württemberg  \n",
       "1         http://www.lobbe.de/     Nordrhein-Westfalen  \n",
       "2      http://www.ewn-gmbh.de/  Mecklenburg-Vorpommern  \n",
       "3  http://www.geigergruppe.de/                  Bayern  \n",
       "4           http://www.dbe.de/           Niedersachsen  "
      ]
     },
     "execution_count": 15,
     "metadata": {},
     "output_type": "execute_result"
    }
   ],
   "source": [
    "finalDf.head()"
   ]
  },
  {
   "cell_type": "code",
   "execution_count": null,
   "id": "3ae09279",
   "metadata": {},
   "outputs": [],
   "source": []
  }
 ],
 "metadata": {
  "kernelspec": {
   "display_name": "Python 3 (ipykernel)",
   "language": "python",
   "name": "python3"
  },
  "language_info": {
   "codemirror_mode": {
    "name": "ipython",
    "version": 3
   },
   "file_extension": ".py",
   "mimetype": "text/x-python",
   "name": "python",
   "nbconvert_exporter": "python",
   "pygments_lexer": "ipython3",
   "version": "3.9.9"
  }
 },
 "nbformat": 4,
 "nbformat_minor": 5
}
